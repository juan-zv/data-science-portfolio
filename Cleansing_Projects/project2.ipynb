{
  "cells": [
    {
      "cell_type": "raw",
      "metadata": {},
      "source": [
        "---\n",
        "title: \"Client Report - Late flights and missing data (JSON files)\"\n",
        "subtitle: \"Course DS 250\"\n",
        "author: \"Juan Zurita\"\n",
        "format:\n",
        "  html:\n",
        "    self-contained: true\n",
        "    page-layout: full\n",
        "    title-block-banner: true\n",
        "    toc: true\n",
        "    toc-depth: 3\n",
        "    toc-location: body\n",
        "    number-sections: false\n",
        "    html-math-method: katex\n",
        "    code-fold: true\n",
        "    code-summary: \"Show the code\"\n",
        "    code-overflow: wrap\n",
        "    code-copy: hover\n",
        "    code-tools:\n",
        "        source: false\n",
        "        toggle: true\n",
        "        caption: See code\n",
        "execute: \n",
        "  warning: false\n",
        "    \n",
        "---"
      ],
      "id": "19bb49f7"
    },
    {
      "cell_type": "code",
      "metadata": {},
      "source": [
        "#| label: libraries\n",
        "#| include: false\n",
        "import pandas as pd\n",
        "import numpy as np\n",
        "import plotly.express as px"
      ],
      "id": "libraries",
      "execution_count": null,
      "outputs": []
    },
    {
      "cell_type": "markdown",
      "metadata": {},
      "source": [
        "## Elevator pitch\n",
        "\n",
        "__Analyzing the flights_missing.json dataset offers insights into flight delays and associated factors such as airline performance and weather conditions. By exploring the data, we can uncover patterns in the frequency and duration of flight delays, identify which airlines are most prone to delays, and assess the impact of weather on flight schedules. Utilizing visualizations, we can depict correlations between delay durations and various parameters like time of day, day of the week, and weather conditions, enabling stakeholders to make informed decisions for improving flight operations and passenger experiences.__\n"
      ],
      "id": "45b270a6"
    },
    {
      "cell_type": "code",
      "metadata": {},
      "source": [
        "#| label: project-data\n",
        "#| code-summary: Read and format project data\n",
        "\n",
        "# Include and execute your code here\n",
        "df = pd.read_json(\"https://github.com/byuidatascience/data4missing/raw/master/data-raw/flights_missing/flights_missing.json\")"
      ],
      "id": "project-data",
      "execution_count": null,
      "outputs": []
    },
    {
      "cell_type": "markdown",
      "metadata": {},
      "source": [
        "## QUESTION|TASK 1\n",
        "\n",
        "__Fix all of the varied missing data types in the data to be consistent (all missing values should be displayed as “NaN”). In your report include one record example (one row) from your new data, in the raw JSON format. Your example should display the “NaN” for at least one missing value.__\n",
        "\n",
        "_type your results and analysis here_\n"
      ],
      "id": "a79a9712"
    },
    {
      "cell_type": "code",
      "metadata": {},
      "source": [
        "#| label: Q1\n",
        "#| code-summary: Read and format data\n",
        "# Include and execute your code here\n",
        "\n",
        "df.replace({\n",
        "    -999: np.nan,\n",
        "    'n/a': np.nan,\n",
        "    'Febuary': 'February',\n",
        "    '': np.nan,\n",
        "    '1500+': 1500\n",
        "}, inplace=True)\n",
        "\n",
        "df = df.query(\"month != 'na'\")\n",
        "\n",
        "avg_delay = df['num_of_delays_late_aircraft'].mean()\n",
        "\n",
        "df['num_of_delays_late_aircraft'].replace(np.nan, avg_delay, inplace=True)\n",
        "\n",
        "df.iloc[2]  # third row (index 2)"
      ],
      "id": "Q1",
      "execution_count": null,
      "outputs": []
    },
    {
      "cell_type": "markdown",
      "metadata": {},
      "source": [
        "## QUESTION|TASK 2\n",
        "\n",
        "__Which airport has the worst delays? Discuss the metric you chose, and why you chose it to determine the “worst” airport. Your answer should include a summary table that lists (for each airport) the total number of flights, total number of delayed flights, proportion of delayed flights, and average delay time in hours.__\n",
        "\n",
        "_type your results and analysis here_\n"
      ],
      "id": "d85b0e27"
    },
    {
      "cell_type": "code",
      "metadata": {},
      "source": [
        "#| label: Q2\n",
        "#| code-summary: Read and format data\n",
        "# Include and execute your code here\n",
        "\n",
        "q2 = (df.groupby('airport_code').agg(\n",
        "total_flights=('num_of_flights_total', 'sum'),\n",
        "delayed_flights=('num_of_delays_total', 'sum'),\n",
        "avg_delay_time=('minutes_delayed_total', 'mean')))\n",
        "\n",
        "q2['avg_delay_hours'] = q2['avg_delay_time'] / 60\n",
        "\n",
        "\n",
        "q2['is_delayed'] = q2['delayed_flights'] / q2['total_flights'] *100\n",
        "\n",
        "q2 = q2.sort_values(by='is_delayed', ascending=False)\n",
        "\n",
        "# table\n",
        "print(q2)"
      ],
      "id": "Q2",
      "execution_count": null,
      "outputs": []
    },
    {
      "cell_type": "markdown",
      "metadata": {},
      "source": [
        "## QUESTION|TASK 3\n",
        "\n",
        "__What is the best month to fly if you want to avoid delays of any length? Discuss the metric you chose and why you chose it to calculate your answer. Include one chart to help support your answer, with the x-axis ordered by month. (To answer this question, you will need to remove any rows that are missing the Month variable.)__\n",
        "\n",
        "_type your results and analysis here_\n"
      ],
      "id": "d9219800"
    },
    {
      "cell_type": "code",
      "metadata": {},
      "source": [
        "#| label: Q3\n",
        "#| code-summary: Read and format data\n",
        "# Include and execute your code here\n",
        "\n",
        "df_months = df.dropna(subset=['month'])\n",
        "\n",
        "q3 = df.groupby('month').agg(\n",
        "    total_flights=('num_of_flights_total', 'sum'),\n",
        "    delayed_flights=('num_of_delays_total', 'sum')\n",
        ")\n",
        "\n",
        "#proportion\n",
        "q3['is_delayed'] = q3['delayed_flights'] / q3['total_flights']*100\n",
        "\n",
        "\n",
        "months_order = ['January', 'February', 'March', 'April', 'May', 'June', 'July', 'August', 'September', 'October', 'November', 'December']\n",
        "q3 = q3.reindex(months_order)\n",
        "\n",
        "q3_visual = px.bar(q3, x=q3.index, y='is_delayed', \n",
        "                   color='is_delayed',\n",
        "                   labels={'is_delayed': 'Delayed Percentage'},\n",
        "                   title='Proportion of Delayed Flights by Month')\n",
        "q3_visual.update_layout(xaxis_title='Month', yaxis_title='Proportion of Delayed Flights')\n",
        "\n",
        "q3_visual.show()"
      ],
      "id": "Q3",
      "execution_count": null,
      "outputs": []
    },
    {
      "cell_type": "markdown",
      "metadata": {},
      "source": [
        "## QUESTION|TASK 4\n",
        "\n",
        "__According to the BTS website, the “Weather” category only accounts for severe weather delays. Mild weather delays are not counted in the “Weather” category, but are actually included in both the “NAS” and “Late-Arriving Aircraft” categories. Your job is to create a new column that calculates the total number of flights delayed by weather (both severe and mild). You will need to replace all the missing values in the Late Aircraft variable with the mean. Show your work by printing the first 5 rows of data in a table. Use these three rules for your calculations:__\n",
        "\n",
        "_type your results and analysis here_\n"
      ],
      "id": "bf1304d0"
    },
    {
      "cell_type": "code",
      "metadata": {},
      "source": [
        "#| label: Q3\n",
        "#| code-summary: Read and format data\n",
        "# Include and execute your code here\n"
      ],
      "id": "Q3",
      "execution_count": null,
      "outputs": []
    },
    {
      "cell_type": "markdown",
      "metadata": {},
      "source": [
        "__100% of delayed flights in the Weather category are due to weather__"
      ],
      "id": "0ea18a03"
    },
    {
      "cell_type": "code",
      "metadata": {},
      "source": [
        "#| label: Q3\n",
        "#| code-summary: Read and format data\n",
        "# Include and execute your code here\n"
      ],
      "id": "Q3",
      "execution_count": null,
      "outputs": []
    },
    {
      "cell_type": "markdown",
      "metadata": {},
      "source": [
        "__30% of all delayed flights in the Late-Arriving category are due to weather.__"
      ],
      "id": "8f514179"
    },
    {
      "cell_type": "code",
      "metadata": {},
      "source": [
        "#| label: Q3\n",
        "#| code-summary: Read and format data\n",
        "# Include and execute your code here\n"
      ],
      "id": "Q3",
      "execution_count": null,
      "outputs": []
    },
    {
      "cell_type": "markdown",
      "metadata": {},
      "source": [
        "__From April to August, 40% of delayed flights in the NAS category are due to weather. The rest of the months, the proportion rises to 65%.__"
      ],
      "id": "00a9a0c5"
    },
    {
      "cell_type": "code",
      "metadata": {},
      "source": [
        "#| label: Q3\n",
        "#| code-summary: Read and format data\n",
        "# Include and execute your code here\n",
        "\n",
        "df['Late Aircraft'].fillna(df['Late Aircraft'].mean(), inplace=True)\n",
        "\n",
        "df['total_weather_delays'] = df['Weather']\n",
        "df['total_weather_delays'] += df['Late-Arriving'] * 0.3\n",
        "\n",
        "df['total_weather_delays'] += np.where((df['Month'] >= 4) & (df['Month'] <= 8), df['NAS'] * 0.4, df['NAS'] * 0.65)\n",
        "\n",
        "print(df.head())"
      ],
      "id": "Q3",
      "execution_count": null,
      "outputs": []
    },
    {
      "cell_type": "markdown",
      "metadata": {},
      "source": [
        "## QUESTION|TASK 5\n",
        "\n",
        "__Using the new weather variable calculated above, create a barplot showing the proportion of all flights that are delayed by weather at each airport. Discuss what you learn from this graph.__\n",
        "\n",
        "_type your results and analysis here_\n"
      ],
      "id": "509681ef"
    },
    {
      "cell_type": "code",
      "metadata": {},
      "source": [
        "#| label: Q3\n",
        "#| code-summary: Read and format data\n",
        "# Include and execute your code here\n",
        "\n",
        "q4['total_weather_delays'] = q4['nas_weather_delays'] + q4['mild_weather_delays']\n",
        "\n",
        "total_flights = df.groupby('airport_code')['num_of_flights_total'].sum().reset_index()\n",
        "\n",
        "q5 = q4.merge(total_flights, on='airport_code', how='left')\n",
        "q5['is_delayed_by_weather'] = (q5['total_weather_delays'] / total_flights['num_of_flights_total'])*100\n",
        "\n",
        "\n",
        "q5_visual = px.bar(q5, x='airport_code', y='is_delayed_by_weather',\n",
        "title='Proportion of Flights Delayed by Weather at Each Airport',\n",
        "labels={'weather_delay_proportion': 'Proportion of Flights Delayed by Weather', 'airport': 'Airport'})\n",
        "q5_visual.update_xaxes(title_text='Airport')\n",
        "q5_visual.update_yaxes(title_text='Proportion of Flights Delayed by Weather')\n",
        "\n",
        "q5_visual.show()"
      ],
      "id": "Q3",
      "execution_count": null,
      "outputs": []
    }
  ],
  "metadata": {
    "kernelspec": {
      "name": "python3",
      "language": "python",
      "display_name": "Python 3 (ipykernel)"
    }
  },
  "nbformat": 4,
  "nbformat_minor": 5
}